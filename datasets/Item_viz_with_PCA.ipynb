{
 "cells": [
  {
   "cell_type": "code",
   "execution_count": 1,
   "id": "27976287-3df0-46a3-a19c-4e8f762a6f57",
   "metadata": {},
   "outputs": [],
   "source": [
    "from aprec.api.action import Action\n",
    "from aprec.api.catalog import Catalog\n",
    "from aprec.datasets.download_file import download_file\n",
    "\n",
    "BERT4REC_DATASET_URL = \"https://raw.githubusercontent.com/asash/BERT4rec_py3_tf2/master/BERT4rec/data/{}.txt\"\n",
    "BERT4REC_DIR = \"data/bert4rec\"\n",
    "VALID_DATASETS = {\"ml-1m\"}\n",
    "\n",
    "def get_bert4rec_dataset(dataset):\n",
    "    if dataset not in VALID_DATASETS:\n",
    "        raise ValueError(f\"unknown bert4rec dataset {dataset}\")\n",
    "    \n",
    "    dataset_filename = download_file(BERT4REC_DATASET_URL.format(dataset), dataset + \".txt\", BERT4REC_DIR)\n",
    "    \n",
    "    # Get genre and catalog information\n",
    "    genres_dict, title_dict = get_movielens1m_genres()\n",
    "    catalog = get_movielens1m_catalog()\n",
    "    \n",
    "    actions = []\n",
    "    prev_user = None\n",
    "    current_timestamp = 0\n",
    "    \n",
    "    with open(dataset_filename) as input:\n",
    "        for line in input:\n",
    "            user, item = [str(id) for id in line.strip().split()]\n",
    "            if user != prev_user:\n",
    "                current_timestamp = 0\n",
    "            prev_user = user\n",
    "            current_timestamp += 1\n",
    "            genre = genres_dict.get(item, \"Unknown\") \n",
    "            title = title_dict.get(item, \"Unknown\")# Get genre for the item\n",
    "            actions.append(Action(user, item, current_timestamp, {\"genres\":genre,\"title\":title}))  # Add genre to the action\n",
    "        return actions\n",
    "            \n",
    "\n",
    "\n",
    "MAPPING_URL = \"https://raw.githubusercontent.com/asash/ml1m-sas-mapping/main/sas_to_original_items.txt\"\n",
    "\n",
    "def ml1m_mapping_to_original():\n",
    "    mapping_filename = download_file(MAPPING_URL, \"sas_to_original_items.txt\", BERT4REC_DIR)\n",
    "    result = {}\n",
    "    for line in open(mapping_filename):\n",
    "        sas_item, original_item = line.strip().split()\n",
    "        result[sas_item] = original_item\n",
    "    return result\n",
    "\n",
    "def get_movielens1m_genres():\n",
    "    from aprec.datasets.movielens1m import get_genre_title_dict as get_ml1m_genre_dict\n",
    "    original_genre_dict, original_title_dict = get_ml1m_genre_dict()\n",
    "    mapping = ml1m_mapping_to_original()\n",
    "    result_genre = {}\n",
    "    result_title = {}\n",
    "    for sas_item, original_item in mapping.items():\n",
    "        result_genre[sas_item] = original_genre_dict[original_item]\n",
    "        result_title[sas_item] = original_title_dict[original_item]\n",
    "    return result_genre,result_title\n",
    "\n",
    "def get_movielens1m_catalog():\n",
    "    from aprec.datasets.movielens1m import get_movies_catalog as get_ml1m_catalog\n",
    "    original_catalog, movie_genres, movie_titles = get_ml1m_catalog()\n",
    "    mapping = ml1m_mapping_to_original()\n",
    "    result = Catalog()\n",
    "    for sas_item, original_item_id in mapping.items():\n",
    "        item = original_catalog.get_item(original_item_id)\n",
    "        item.item_id = sas_item\n",
    "        result.add_item(item)\n",
    "    return result\n"
   ]
  },
  {
   "cell_type": "code",
   "execution_count": 35,
   "id": "66b3a754-d8a6-47fb-9807-04d09cf369f1",
   "metadata": {},
   "outputs": [],
   "source": [
    "# dataset = [\n",
    "#     {\"item\": 1, \"data\": {\"genres\": [\"Animation\"], \"title\": \"Toy Story (1995)\"}},\n",
    "#     {\"item\": 2, \"data\": {\"genres\": [\"Children\"], \"title\": \"Jumanji (1995)\"}},\n",
    "#     {\"item\": 3, \"data\": {\"genres\": [\"Comedy\"], \"title\": \"Grumpier Old Men (1995)\"}},\n",
    "#     {\"item\": 4, \"data\": {\"genres\": [\"Drama\"], \"title\": \"Waiting to Exhale (1995)\"}},\n",
    "#     {\"item\": 5, \"data\": {\"genres\": [\"Romance\"], \"title\": \"Father of the Bride Part II (1995)\"}},\n",
    "#     {\"item\": 6, \"data\": {\"genres\": [\"Action\"], \"title\": \"Heat (1995)\"}},\n",
    "#     {\"item\": 7, \"data\": {\"genres\": [\"Fantasy\"], \"title\": \"Sabrina (1995)\"}},\n",
    "#     {\"item\": 8, \"data\": {\"genres\": [\"Adventure\"], \"title\": \"Tom and Huck (1995)\"}},\n",
    "#     {\"item\": 9, \"data\": {\"genres\": [\"Thriller\"], \"title\": \"Sudden Death (1995)\"}},\n",
    "#     {\"item\": 10, \"data\": {\"genres\": [\"Crime\"], \"title\": \"GoldenEye (1995)\"}},\n",
    "#     {\"item\": 11, \"data\": {\"genres\": [\"Comedy\", \"Romance\"], \"title\": \"American President, The (1995)\"}},\n",
    "#     {\"item\": 12, \"data\": {\"genres\": [\"Horror\"], \"title\": \"Dracula: Dead and Loving It (1995)\"}},\n",
    "#     {\"item\": 13, \"data\": {\"genres\": [\"Animation\", \"Children\"], \"title\": \"Balto (1995)\"}},\n",
    "#     {\"item\": 14, \"data\": {\"genres\": [\"Drama\"], \"title\": \"Nixon (1995)\"}},\n",
    "#     {\"item\": 15, \"data\": {\"genres\": [\"Action\", \"Adventure\"], \"title\": \"Cutthroat Island (1995)\"}},\n",
    "#     {\"item\": 16, \"data\": {\"genres\": [\"Crime\", \"Drama\"], \"title\": \"Casino (1995)\"}},\n",
    "#     {\"item\": 17, \"data\": {\"genres\": [\"Drama\", \"Romance\"], \"title\": \"Sense and Sensibility (1995)\"}},\n",
    "#     {\"item\": 18, \"data\": {\"genres\": [\"Comedy\"], \"title\": \"Four Rooms (1995)\"}}\n",
    "# ]\n",
    "\n",
    "dataset = [\n",
    "    {\"item\": 1, \"data\": {\"genres\": [\"Animation\"], \"title\": \"Toy Story (1995)\"}},\n",
    "    {\"item\": 13, \"data\": {\"genres\": [\"Animation\", \"Children\"], \"title\": \"Balto (1995)\"}},\n",
    "    {\"item\": 20, \"data\": {\"genres\": [\"Animation\", \"Children\", \"Comedy\"], \"title\": \"Aladdin (1992)\"}},\n",
    "    {\"item\": 21, \"data\": {\"genres\": [\"Animation\", \"Children\", \"Musical\"], \"title\": \"Lion King, The (1994)\"}},\n",
    "    {\"item\": 22, \"data\": {\"genres\": [\"Animation\", \"Children\", \"Musical\"], \"title\": \"Beauty and the Beast (1991)\"}},\n",
    "    {\"item\": 23, \"data\": {\"genres\": [\"Animation\", \"Children\", \"Musical\"], \"title\": \"Hunchback of Notre Dame, The (1996)\"}},\n",
    "\n",
    "    {\"item\": 6, \"data\": {\"genres\": [\"Action\"], \"title\": \"Heat (1995)\"}},\n",
    "    {\"item\": 10, \"data\": {\"genres\": [\"Action\", \"Adventure\", \"Thriller\"], \"title\": \"GoldenEye (1995)\"}},\n",
    "    {\"item\": 15, \"data\": {\"genres\": [\"Action\", \"Adventure\"], \"title\": \"Cutthroat Island (1995)\"}},\n",
    "    {\"item\": 30, \"data\": {\"genres\": [\"Action\", \"Thriller\"], \"title\": \"Die Hard (1988)\"}},\n",
    "    {\"item\": 31, \"data\": {\"genres\": [\"Action\", \"Sci-Fi\", \"Thriller\"], \"title\": \"Terminator 2: Judgment Day (1991)\"}},\n",
    "    {\"item\": 32, \"data\": {\"genres\": [\"Action\", \"Comedy\", \"Crime\"], \"title\": \"Lethal Weapon (1987)\"}},\n",
    "\n",
    "    {\"item\": 3, \"data\": {\"genres\": [\"Comedy\",\"Drama\"], \"title\": \"Grumpier Old Men (1995)\"}},\n",
    "    {\"item\": 18, \"data\": {\"genres\": [\"Comedy\",\"Anthology\",\"Farce\"], \"title\": \"Four Rooms (1995)\"}},\n",
    "    {\"item\": 40, \"data\": {\"genres\": [\"Comedy\",\"Animation\",\"Adventure\"], \"title\": \"Dumb & Dumber (1994)\"}},\n",
    "    {\"item\": 41, \"data\": {\"genres\": [\"Comedy\",\"Action\",\"Adventure\"], \"title\": \"Ace Ventura: Pet Detective (1994)\"}},\n",
    "    {\"item\": 42, \"data\": {\"genres\": [\"Comedy\",\"Drama\"], \"title\": \"Billy Madison (1995)\"}},\n",
    "    {\"item\": 43, \"data\": {\"genres\": [\"Comedy\",\"Romance\",\"Drama\"], \"title\": \"Happy Gilmore (1996)\"}}\n",
    "]\n",
    "\n"
   ]
  },
  {
   "cell_type": "code",
   "execution_count": 3,
   "id": "5a38d6cc-1eed-4eac-9189-edcc8dfac5b9",
   "metadata": {},
   "outputs": [
    {
     "data": {
      "text/plain": [
       "Action(uid=1, item=2, ts=2, data={'genres': ['Comedy'], 'title': 'Caddyshack (1980)'})"
      ]
     },
     "execution_count": 3,
     "metadata": {},
     "output_type": "execute_result"
    }
   ],
   "source": [
    "dataset[1]"
   ]
  },
  {
   "cell_type": "code",
   "execution_count": 2,
   "id": "ae38a4ca-0617-4db3-909f-bc492e45b079",
   "metadata": {},
   "outputs": [],
   "source": [
    "import requests\n",
    "\n",
    "TMDB_API_KEY = 'e28351a5ba65201ad806d86aa3d4dbde'\n",
    "TMDB_SEARCH_URL = 'https://api.themoviedb.org/3/search/movie?query={}&api_key=' + TMDB_API_KEY\n",
    "TMDB_MOVIE_URL = 'https://api.themoviedb.org/3/movie/{}?api_key=' + TMDB_API_KEY\n",
    "\n",
    "def search_movie_tmdb(movie_name):\n",
    "    response = requests.get(TMDB_SEARCH_URL.format(movie_name))\n",
    "    if response.status_code == 200:\n",
    "        search_results = response.json()\n",
    "        if search_results['results']:\n",
    "            return search_results['results'][0]['id']\n",
    "    return None\n",
    "\n",
    "def get_tmdb_genres(movie_names):\n",
    "    genres_dict = {}\n",
    "    for movie_name in movie_names:\n",
    "        movie_id = search_movie_tmdb(movie_name)\n",
    "        if movie_id:\n",
    "            response = requests.get(TMDB_MOVIE_URL.format(movie_id))\n",
    "            if response.status_code == 200:\n",
    "                movie_data = response.json()\n",
    "                genres = [genre['name'] for genre in movie_data.get('genres', [])]\n",
    "                genres_dict[movie_name] = genres if genres else [\"Unknown\"]\n",
    "            else:\n",
    "                genres_dict[movie_name] = [\"Unknown\"]\n",
    "        else:\n",
    "            genres_dict[movie_name] = [\"Unknown\"]\n",
    "    return genres_dict"
   ]
  },
  {
   "cell_type": "code",
   "execution_count": 14,
   "id": "ec7e3946-d551-407e-8b62-8f7f07000e61",
   "metadata": {},
   "outputs": [],
   "source": [
    "movies = ['Grumpier Old Men','Four Rooms','Dumb & Dumber','Ace Ventura: Pet Detective','Billy Madison','Happy Gilmore']\n",
    "genres = get_tmdb_genres(movies)"
   ]
  },
  {
   "cell_type": "code",
   "execution_count": 15,
   "id": "167c1d33-ac95-4f70-9c3d-ca11ae4cfac9",
   "metadata": {},
   "outputs": [
    {
     "name": "stdout",
     "output_type": "stream",
     "text": [
      "{'Grumpier Old Men': ['Romance', 'Comedy'], 'Four Rooms': ['Comedy'], 'Dumb & Dumber': ['Comedy'], 'Ace Ventura: Pet Detective': ['Comedy', 'Mystery'], 'Billy Madison': ['Comedy'], 'Happy Gilmore': ['Comedy']}\n"
     ]
    }
   ],
   "source": [
    "print(genres)"
   ]
  },
  {
   "cell_type": "code",
   "execution_count": 30,
   "id": "aa804293-4969-4a78-bff9-bb1d9d0fc58e",
   "metadata": {},
   "outputs": [],
   "source": [
    "# !pip install sentence_transformers\n",
    "#!pip install numpy\n",
    "#!pip install plotly"
   ]
  },
  {
   "cell_type": "code",
   "execution_count": 38,
   "id": "cafa511a-1162-4d13-ba6e-fbf872b39506",
   "metadata": {},
   "outputs": [
    {
     "name": "stderr",
     "output_type": "stream",
     "text": [
      "/opt/miniconda3/lib/python3.10/site-packages/sklearn/cluster/_kmeans.py:1416: FutureWarning:\n",
      "\n",
      "The default value of `n_init` will change from 10 to 'auto' in 1.4. Set the value of `n_init` explicitly to suppress the warning\n",
      "\n"
     ]
    },
    {
     "data": {
      "text/html": [
       "<iframe\n",
       "    scrolling=\"no\"\n",
       "    width=\"100%\"\n",
       "    height=\"545px\"\n",
       "    src=\"iframe_figures/figure_38.html\"\n",
       "    frameborder=\"0\"\n",
       "    allowfullscreen\n",
       "></iframe>\n"
      ]
     },
     "metadata": {},
     "output_type": "display_data"
    }
   ],
   "source": [
    "import numpy as np\n",
    "import pandas as pd\n",
    "from sklearn.decomposition import PCA\n",
    "from sklearn.cluster import KMeans\n",
    "from sentence_transformers import SentenceTransformer\n",
    "import plotly.express as px\n",
    "import plotly.io as pio\n",
    "pio.renderers.default = 'iframe'\n",
    "\n",
    "# Initialize the model\n",
    "model = SentenceTransformer('sentence-transformers/sentence-t5-base')\n",
    "\n",
    "# Function to get embeddings\n",
    "def get_embeddings(genres):\n",
    "    genre_text = ' '.join(genres)\n",
    "    embeddings = model.encode(genre_text)\n",
    "    return embeddings\n",
    "\n",
    "# Create embeddings for each movie\n",
    "item_to_genre = {entry[\"item\"]: entry[\"data\"][\"genres\"] for entry in dataset}\n",
    "unique_items = list(item_to_genre.keys())\n",
    "\n",
    "genre_embeddings = np.zeros((len(unique_items), 768))\n",
    "for idx, item_id in enumerate(unique_items):\n",
    "    genres = item_to_genre[item_id]\n",
    "    genre_emb = get_embeddings(genres)\n",
    "    genre_embeddings[idx] = genre_emb\n",
    "\n",
    "# Apply PCA to reduce dimensionality\n",
    "pca = PCA(n_components=2)\n",
    "reduced_embeddings = pca.fit_transform(genre_embeddings)\n",
    "\n",
    "# Clustering\n",
    "num_clusters = 3\n",
    "kmeans = KMeans(n_clusters=num_clusters, random_state=0).fit(reduced_embeddings)\n",
    "cluster_labels = kmeans.labels_\n",
    "\n",
    "# Prepare data for Plotly\n",
    "titles = [entry[\"data\"][\"title\"] for entry in dataset]\n",
    "df = pd.DataFrame({\n",
    "    'PCA1': reduced_embeddings[:, 0],\n",
    "    'PCA2': reduced_embeddings[:, 1],\n",
    "    'Title': titles,\n",
    "    'Cluster': cluster_labels\n",
    "})\n",
    "\n",
    "# Create interactive plot\n",
    "fig = px.scatter(df, x='PCA1', y='PCA2', color='Cluster', hover_data=['Title'], title='PCA of Genre Embeddings with Clustering')\n",
    "fig.show()\n"
   ]
  },
  {
   "cell_type": "markdown",
   "id": "e451e795-731f-49d6-955a-6c29fdd159a2",
   "metadata": {},
   "source": [
    "# Items with exact same genre list have the same position on the graph and hence you see less items"
   ]
  },
  {
   "cell_type": "code",
   "execution_count": 37,
   "id": "e87db1d7-10b3-4ccd-8baf-00e8281c087a",
   "metadata": {},
   "outputs": [
    {
     "name": "stderr",
     "output_type": "stream",
     "text": [
      "/opt/miniconda3/lib/python3.10/site-packages/sklearn/cluster/_kmeans.py:1416: FutureWarning:\n",
      "\n",
      "The default value of `n_init` will change from 10 to 'auto' in 1.4. Set the value of `n_init` explicitly to suppress the warning\n",
      "\n"
     ]
    },
    {
     "data": {
      "text/html": [
       "<iframe\n",
       "    scrolling=\"no\"\n",
       "    width=\"100%\"\n",
       "    height=\"545px\"\n",
       "    src=\"iframe_figures/figure_37.html\"\n",
       "    frameborder=\"0\"\n",
       "    allowfullscreen\n",
       "></iframe>\n"
      ]
     },
     "metadata": {},
     "output_type": "display_data"
    }
   ],
   "source": [
    "import numpy as np\n",
    "import pandas as pd\n",
    "from sklearn.decomposition import PCA\n",
    "from sklearn.cluster import KMeans\n",
    "import plotly.express as px\n",
    "import plotly.io as pio\n",
    "pio.renderers.default = 'iframe'  \n",
    "\n",
    "# Create a list of all unique genres\n",
    "unique_genres = set(genre for movie in dataset for genre in movie['data']['genres'])\n",
    "genre_to_index = {genre: idx for idx, genre in enumerate(unique_genres)}\n",
    "\n",
    "# One-hot encode the genres\n",
    "num_genres = len(unique_genres)\n",
    "genre_embeddings = np.zeros((len(dataset), num_genres))\n",
    "\n",
    "for idx, movie in enumerate(dataset):\n",
    "    for genre in movie['data']['genres']:\n",
    "        genre_embeddings[idx, genre_to_index[genre]] = 1\n",
    "\n",
    "# Apply PCA to reduce dimensionality\n",
    "pca = PCA(n_components=2)\n",
    "reduced_embeddings = pca.fit_transform(genre_embeddings)\n",
    "\n",
    "# Clustering\n",
    "num_clusters = 3\n",
    "kmeans = KMeans(n_clusters=num_clusters, random_state=0).fit(reduced_embeddings)\n",
    "cluster_labels = kmeans.labels_\n",
    "\n",
    "# Prepare data for Plotly\n",
    "titles = [movie[\"data\"][\"title\"] for movie in dataset]\n",
    "df = pd.DataFrame({\n",
    "    'PCA1': reduced_embeddings[:, 0],\n",
    "    'PCA2': reduced_embeddings[:, 1],\n",
    "    'Title': titles,\n",
    "    'Cluster': cluster_labels\n",
    "})\n",
    "\n",
    "# Create interactive plot\n",
    "fig = px.scatter(df, x='PCA1', y='PCA2', color='Cluster', hover_data=['Title'], title='PCA of Genre Embeddings with Clustering')\n",
    "fig.show()\n"
   ]
  },
  {
   "cell_type": "code",
   "execution_count": null,
   "id": "a57972c0-72a4-4bf7-9f52-fdc49032fae4",
   "metadata": {},
   "outputs": [],
   "source": []
  }
 ],
 "metadata": {
  "kernelspec": {
   "display_name": "Python [conda env:aprec_repro]",
   "language": "python",
   "name": "conda-env-aprec_repro-py"
  },
  "language_info": {
   "codemirror_mode": {
    "name": "ipython",
    "version": 3
   },
   "file_extension": ".py",
   "mimetype": "text/x-python",
   "name": "python",
   "nbconvert_exporter": "python",
   "pygments_lexer": "ipython3",
   "version": "3.9.18"
  }
 },
 "nbformat": 4,
 "nbformat_minor": 5
}
